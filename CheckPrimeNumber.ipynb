{
  "nbformat": 4,
  "nbformat_minor": 0,
  "metadata": {
    "colab": {
      "name": "CheckPrimeNumber.ipynb",
      "provenance": [],
      "collapsed_sections": [],
      "authorship_tag": "ABX9TyMUeHPpbXcoNOslggUOb4EO",
      "include_colab_link": true
    },
    "kernelspec": {
      "name": "python3",
      "display_name": "Python 3"
    },
    "language_info": {
      "name": "python"
    }
  },
  "cells": [
    {
      "cell_type": "markdown",
      "metadata": {
        "id": "view-in-github",
        "colab_type": "text"
      },
      "source": [
        "<a href=\"https://colab.research.google.com/github/futurbotconsolidated/PrimeNumber/blob/main/CheckPrimeNumber.ipynb\" target=\"_parent\"><img src=\"https://colab.research.google.com/assets/colab-badge.svg\" alt=\"Open In Colab\"/></a>"
      ]
    },
    {
      "cell_type": "code",
      "execution_count": null,
      "metadata": {
        "id": "zWEt98h7wM67"
      },
      "outputs": [],
      "source": [
        "num = int(input('Enter a positive integer: '))\n",
        "def check_prime_number(num):\n",
        "  if num<=0:\n",
        "    print('we need a positive integer')\n",
        "  elif num==1:\n",
        "    return 'N'\n",
        "  elif num>1:\n",
        "    for i in range(2,int(num/2)+1):\n",
        "      if num%i==0:\n",
        "        return 'N'\n",
        "        break\n",
        "    else:\n",
        "      return 'Y'\n",
        "\n",
        "check_prime_number(num)"
      ]
    },
    {
      "cell_type": "markdown",
      "source": [
        "####Details\n",
        "\n",
        "####1.   Roll no : 20285756001\n",
        "####2.   Name : Abhey Sharma\n",
        "####3.   Residential Address : 67 j&K Block Laxmi Nagar Delhi - 92\n",
        "####4.   EmailId : abhey.sharma@iic.ac.in\n",
        "\n"
      ],
      "metadata": {
        "id": "gVrKqNNZwRnY"
      }
    }
  ]
}